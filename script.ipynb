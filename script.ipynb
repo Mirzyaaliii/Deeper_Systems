{
  "nbformat": 4,
  "nbformat_minor": 0,
  "metadata": {
    "colab": {
      "name": "priority_project.ipynb",
      "provenance": [],
      "collapsed_sections": [],
      "toc_visible": true
    },
    "kernelspec": {
      "name": "python3",
      "display_name": "Python 3"
    }
  },
  "cells": [
    {
      "cell_type": "code",
      "metadata": {
        "id": "vmDZGN4yIgxt",
        "outputId": "63937c2d-e207-4453-a764-b2bd75a6329e",
        "colab": {
          "base_uri": "https://localhost:8080/",
          "height": 34
        }
      },
      "source": [
        "from google.colab import drive\n",
        "drive.mount('/content/drive')"
      ],
      "execution_count": 1,
      "outputs": [
        {
          "output_type": "stream",
          "text": [
            "Drive already mounted at /content/drive; to attempt to forcibly remount, call drive.mount(\"/content/drive\", force_remount=True).\n"
          ],
          "name": "stdout"
        }
      ]
    },
    {
      "cell_type": "markdown",
      "metadata": {
        "id": "ubHrOFGGeYef"
      },
      "source": [
        "## **Libraries**"
      ]
    },
    {
      "cell_type": "code",
      "metadata": {
        "id": "DALu_vEjAKIF"
      },
      "source": [
        "import json\n",
        "import pandas as pd\n",
        "from os.path import join"
      ],
      "execution_count": 2,
      "outputs": []
    },
    {
      "cell_type": "markdown",
      "metadata": {
        "id": "hliyMVXwee9f"
      },
      "source": [
        "## **Load data**"
      ]
    },
    {
      "cell_type": "code",
      "metadata": {
        "id": "Vf3iBr5DAM82"
      },
      "source": [
        "# provide a path of the source json file \n",
        "filepath = '/content/drive/My Drive/Assignments/Deeper_Systems/source_file_2.json' \n",
        "\n",
        "with open(filepath, 'r') as fp:\n",
        "  data = json.load(fp)\n",
        "\n",
        "df = pd.DataFrame(data)"
      ],
      "execution_count": 4,
      "outputs": []
    },
    {
      "cell_type": "markdown",
      "metadata": {
        "id": "CwDUMxQEesgf"
      },
      "source": [
        "## **Extract managers and watchers**"
      ]
    },
    {
      "cell_type": "code",
      "metadata": {
        "id": "1TwmIvbdCq8W"
      },
      "source": [
        "manager = dict()\n",
        "watcher = dict()\n",
        "\n",
        "for index in range(len(df)):\n",
        "  manager_list = df.managers[index]\n",
        "  watcher_list = df.watchers[index]\n",
        "\n",
        "  for m_name in manager_list:\n",
        "    if m_name not in manager:\n",
        "      manager[m_name] = list()\n",
        "      manager[m_name].append((df.name[index], df.priority[index]))\n",
        "    else:\n",
        "      manager[m_name].append((df.name[index], df.priority[index]))\n",
        "  \n",
        "  for w_name in watcher_list:\n",
        "    if w_name not in watcher:\n",
        "      watcher[w_name] = list()\n",
        "      watcher[w_name].append((df.name[index], df.priority[index]))\n",
        "    else:\n",
        "      watcher[w_name].append((df.name[index], df.priority[index]))"
      ],
      "execution_count": 5,
      "outputs": []
    },
    {
      "cell_type": "code",
      "metadata": {
        "id": "Msnz6uWcDXVv"
      },
      "source": [
        "priority_manager = {}\n",
        "priority_watcher = {}\n",
        "\n",
        "for m_name in manager:\n",
        "  lst= manager[m_name]\n",
        "  priority_project = list()\n",
        "  sorted_list = sorted(lst, key=lambda tup: tup[1])\n",
        "  for t in sorted_list:\n",
        "    priority_project.append(t[0])\n",
        "  priority_manager[m_name] = priority_project\n",
        "\n",
        "for w_name in watcher:\n",
        "  lst= watcher[w_name]\n",
        "  priority_project = list()\n",
        "  sorted_list = sorted(lst, key=lambda tup: tup[1])\n",
        "  for t in sorted_list:\n",
        "    priority_project.append(t[0])\n",
        "  priority_watcher[w_name] = priority_project\n"
      ],
      "execution_count": 6,
      "outputs": []
    },
    {
      "cell_type": "markdown",
      "metadata": {
        "id": "509jwtH1fIwR"
      },
      "source": [
        "## **Save results to json files**"
      ]
    },
    {
      "cell_type": "code",
      "metadata": {
        "id": "Ti3l092RFsJm"
      },
      "source": [
        "# path to save the results\n",
        "output_path = '/content/drive/My Drive/Assignments/Deeper_Systems'\n",
        "\n",
        "with open(join(output_path, 'managers.json'),'w') as fm:\n",
        "  json.dump(priority_manager, fm)\n",
        "\n",
        "with open(join(output_path, 'watchers.json'),'w') as fw:\n",
        "  json.dump(priority_watcher, fw)"
      ],
      "execution_count": 8,
      "outputs": []
    }
  ]
}